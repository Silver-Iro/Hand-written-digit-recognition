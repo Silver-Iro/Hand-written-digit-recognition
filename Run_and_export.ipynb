{
 "cells": [
  {
   "cell_type": "code",
   "execution_count": null,
   "id": "acf50ef1-29f6-4dc4-b61d-5c6ce3908649",
   "metadata": {},
   "outputs": [],
   "source": [
    "pip install pyyaml h5py"
   ]
  },
  {
   "cell_type": "code",
   "execution_count": null,
   "id": "7deb8e62-c43b-4b32-ad1a-99daa0533999",
   "metadata": {},
   "outputs": [],
   "source": [
    "%run Model_and_training.ipynb"
   ]
  },
  {
   "cell_type": "code",
   "execution_count": null,
   "id": "d30dea5e-4138-4f8d-9e13-8129f447fca1",
   "metadata": {},
   "outputs": [],
   "source": [
    "model.save('models/handwriting.h5')"
   ]
  },
  {
   "cell_type": "code",
   "execution_count": null,
   "id": "c7974017-cdb2-423f-a19e-55822d5326bf",
   "metadata": {},
   "outputs": [],
   "source": [
    "model.save('models/handwriting.keras')"
   ]
  },
  {
   "cell_type": "code",
   "execution_count": null,
   "id": "8be800b8-64af-4a5a-81ab-c65962ff70ef",
   "metadata": {},
   "outputs": [],
   "source": []
  }
 ],
 "metadata": {
  "kernelspec": {
   "display_name": "Python 3 (ipykernel)",
   "language": "python",
   "name": "python3"
  },
  "language_info": {
   "codemirror_mode": {
    "name": "ipython",
    "version": 3
   },
   "file_extension": ".py",
   "mimetype": "text/x-python",
   "name": "python",
   "nbconvert_exporter": "python",
   "pygments_lexer": "ipython3",
   "version": "3.12.7"
  }
 },
 "nbformat": 4,
 "nbformat_minor": 5
}
