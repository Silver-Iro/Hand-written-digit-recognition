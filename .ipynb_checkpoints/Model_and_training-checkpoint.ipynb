{
 "cells": [
  {
   "cell_type": "code",
   "execution_count": null,
   "id": "c55a63a0-6689-4564-b57b-132dee6d84ba",
   "metadata": {},
   "outputs": [],
   "source": [
    "import tensorflow as tf\n",
    "from tensorflow import keras\n",
    "import matplotlib.pyplot as plt\n",
    "%matplotlib inline\n",
    "import numpy as np"
   ]
  },
  {
   "cell_type": "markdown",
   "id": "08782ad4-cc71-4a5a-b001-881ced838e67",
   "metadata": {},
   "source": [
    "> import hand written dataset \"mnist\" from keras (60,000 greyscale images plus 10,000 test)"
   ]
  },
  {
   "cell_type": "code",
   "execution_count": null,
   "id": "91fbdcd3-84f2-4a34-a2c3-d26528fefbfb",
   "metadata": {},
   "outputs": [],
   "source": [
    "(x_train, y_train) , (x_test, y_test) = keras.datasets.mnist.load_data()"
   ]
  },
  {
   "cell_type": "code",
   "execution_count": null,
   "id": "cae6e584-00c8-442f-8317-8540fccbe15b",
   "metadata": {},
   "outputs": [],
   "source": [
    "len(x_train)"
   ]
  },
  {
   "cell_type": "code",
   "execution_count": null,
   "id": "3d4a1a0b-bca6-4abb-bd0f-7ac14c176e2f",
   "metadata": {},
   "outputs": [],
   "source": [
    "x_train[0].shape"
   ]
  },
  {
   "cell_type": "code",
   "execution_count": null,
   "id": "4c502e2e-4825-4ee2-8c6c-5ca0ae60e5d3",
   "metadata": {},
   "outputs": [],
   "source": [
    "# plt.matshow(x_train[1])\n",
    "# plt.show()"
   ]
  },
  {
   "cell_type": "code",
   "execution_count": null,
   "id": "97b02878-174a-4d93-82aa-58ae40d8abc5",
   "metadata": {},
   "outputs": [],
   "source": [
    "# y_train[1]"
   ]
  },
  {
   "cell_type": "markdown",
   "id": "55fcdace-60c6-492f-807f-27d43a762100",
   "metadata": {},
   "source": [
    "pre-process the data"
   ]
  },
  {
   "cell_type": "code",
   "execution_count": null,
   "id": "101e8028-1383-4408-9314-5fd8e2aa18dd",
   "metadata": {},
   "outputs": [],
   "source": [
    "# Scale the data to improve accuracy\n",
    "x_train = x_train/255\n",
    "x_test = x_test/255"
   ]
  },
  {
   "cell_type": "code",
   "execution_count": null,
   "id": "27cabd65-0887-49eb-aa6a-f364f0c206c1",
   "metadata": {},
   "outputs": [],
   "source": [
    "# Put the data into a single dimension matrix\n",
    "x_train_flattened = x_train.reshape(len(x_train),28*28)\n",
    "x_test_flattened = x_test.reshape(len(x_test),28*28)"
   ]
  },
  {
   "cell_type": "markdown",
   "id": "04b5998d-736f-4308-af39-39ef48f53d84",
   "metadata": {},
   "source": [
    "Build the neural network"
   ]
  },
  {
   "cell_type": "code",
   "execution_count": null,
   "id": "2ea943e5-9c58-409b-bf46-6ac0440e14d2",
   "metadata": {},
   "outputs": [],
   "source": [
    "model = keras.Sequential([\n",
    "    keras.layers.Dense(10, input_shape=(784,), activation='sigmoid')\n",
    "])\n",
    "\n",
    "model.compile(optimizer='Adam',\n",
    "             loss='sparse_categorical_crossentropy',\n",
    "             metrics=['accuracy'])\n",
    "\n",
    "model.fit(x_train_flattened, y_train, epochs=10)"
   ]
  },
  {
   "cell_type": "code",
   "execution_count": null,
   "id": "72922d01-4361-4144-82b5-bac8eb5be822",
   "metadata": {},
   "outputs": [],
   "source": []
  }
 ],
 "metadata": {
  "kernelspec": {
   "display_name": "Python 3 (ipykernel)",
   "language": "python",
   "name": "python3"
  },
  "language_info": {
   "codemirror_mode": {
    "name": "ipython",
    "version": 3
   },
   "file_extension": ".py",
   "mimetype": "text/x-python",
   "name": "python",
   "nbconvert_exporter": "python",
   "pygments_lexer": "ipython3",
   "version": "3.12.7"
  }
 },
 "nbformat": 4,
 "nbformat_minor": 5
}
