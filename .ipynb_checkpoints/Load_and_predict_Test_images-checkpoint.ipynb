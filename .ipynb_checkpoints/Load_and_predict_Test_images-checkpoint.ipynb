{
 "cells": [
  {
   "cell_type": "code",
   "execution_count": null,
   "id": "8e6093cd-1f49-48c3-b906-8f2ef7c5a6e5",
   "metadata": {},
   "outputs": [],
   "source": [
    "import tensorflow as tf\n",
    "from tensorflow import keras\n",
    "from keras.preprocessing.image import load_img\n",
    "from keras.preprocessing.image import img_to_array , array_to_img\n",
    "import matplotlib.pyplot as plt\n",
    "%matplotlib inline\n",
    "import numpy as np"
   ]
  },
  {
   "cell_type": "code",
   "execution_count": null,
   "id": "a319aee1-b03b-4dfd-a88c-070ecebed66d",
   "metadata": {},
   "outputs": [],
   "source": [
    "model= keras.models.load_model(\"models/handwriting.keras\")"
   ]
  },
  {
   "cell_type": "code",
   "execution_count": null,
   "id": "46b088c2-3b90-45d9-806f-92ad86169a7f",
   "metadata": {},
   "outputs": [],
   "source": [
    "model.summary()"
   ]
  },
  {
   "cell_type": "code",
   "execution_count": null,
   "id": "9c5965c7-dcb0-4f63-aecf-3b2f9d821a4f",
   "metadata": {},
   "outputs": [],
   "source": [
    "img1 = load_img('Test_images/test_image1.png',\n",
    "              color_mode= 'grayscale')\n",
    "print(img1.size)\n",
    "img1.show()"
   ]
  },
  {
   "cell_type": "code",
   "execution_count": null,
   "id": "c7f1178a-cea7-4ad2-b56d-4704986b59f2",
   "metadata": {},
   "outputs": [],
   "source": [
    "img2 = load_img('Test_images/test_image2.png',\n",
    "              color_mode= 'grayscale')\n",
    "print(img2.size)\n",
    "img2.show()"
   ]
  },
  {
   "cell_type": "code",
   "execution_count": null,
   "id": "4cbea82e-b0ba-499f-89f5-402ddc18ed51",
   "metadata": {},
   "outputs": [],
   "source": [
    "img3 = load_img('Test_images/test_image3.png',\n",
    "              color_mode= 'grayscale')\n",
    "print(img3.size)\n",
    "img3.show()"
   ]
  },
  {
   "cell_type": "code",
   "execution_count": null,
   "id": "f3a95c1b-7e74-4e71-b0aa-b133cb9461fb",
   "metadata": {},
   "outputs": [],
   "source": [
    "print(\"PREDICTIONS:\")"
   ]
  },
  {
   "cell_type": "code",
   "execution_count": null,
   "id": "2fdd66f8-411f-4978-b4e9-ba42f4319c1a",
   "metadata": {},
   "outputs": [],
   "source": [
    "img_array1 = tf.constant(img_to_array(img1,data_format='channels_first'))\n",
    "img_array1 = img_array1/255"
   ]
  },
  {
   "cell_type": "code",
   "execution_count": null,
   "id": "0bcb5e73-0c98-430d-8b01-d2347826cacb",
   "metadata": {},
   "outputs": [],
   "source": [
    "single_prediction = model.predict(img_array1)\n",
    "print(\"Image 1 is:\",np.argmax(single_prediction))"
   ]
  },
  {
   "cell_type": "code",
   "execution_count": null,
   "id": "360d4154-1b28-4053-a999-75f29f4f9768",
   "metadata": {},
   "outputs": [],
   "source": [
    "img_array2 = tf.constant(img_to_array(img2,data_format='channels_first'))\n",
    "img_array2 = img_array2/255"
   ]
  },
  {
   "cell_type": "code",
   "execution_count": null,
   "id": "c2628735-0ec4-4cd7-9679-ed1c5414bc2f",
   "metadata": {},
   "outputs": [],
   "source": [
    "single_prediction = model.predict(img_array2)\n",
    "print(\"Image 2 is:\", np.argmax(single_prediction))"
   ]
  },
  {
   "cell_type": "code",
   "execution_count": null,
   "id": "fae13ccc-8976-4c74-b7e1-1bf7f29ffda4",
   "metadata": {},
   "outputs": [],
   "source": [
    "img_array3 = tf.constant(img_to_array(img3,data_format='channels_first'))\n",
    "img_array3 = img_array3/255"
   ]
  },
  {
   "cell_type": "code",
   "execution_count": null,
   "id": "1bf0a5b5-d1e1-43b3-8ec1-501ce5498d83",
   "metadata": {},
   "outputs": [],
   "source": [
    "single_prediction = model.predict(img_array3)\n",
    "print(\"Image 3 is:\", np.argmax(single_prediction))"
   ]
  }
 ],
 "metadata": {
  "kernelspec": {
   "display_name": "Python 3 (ipykernel)",
   "language": "python",
   "name": "python3"
  },
  "language_info": {
   "codemirror_mode": {
    "name": "ipython",
    "version": 3
   },
   "file_extension": ".py",
   "mimetype": "text/x-python",
   "name": "python",
   "nbconvert_exporter": "python",
   "pygments_lexer": "ipython3",
   "version": "3.12.7"
  }
 },
 "nbformat": 4,
 "nbformat_minor": 5
}
